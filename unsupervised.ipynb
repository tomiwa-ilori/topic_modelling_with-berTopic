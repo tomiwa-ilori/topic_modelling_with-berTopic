{
 "cells": [
  {
   "cell_type": "markdown",
   "metadata": {},
   "source": [
    "##### Goal: To identify common themes and narratives from a series of response texts"
   ]
  },
  {
   "cell_type": "markdown",
   "metadata": {},
   "source": [
    "##### Author: Israel Ilori"
   ]
  },
  {
   "cell_type": "code",
   "execution_count": 1,
   "metadata": {},
   "outputs": [
    {
     "name": "stderr",
     "output_type": "stream",
     "text": [
      "/Users/tosi-n/Downloads/izzy/.venv/lib/python3.9/site-packages/tqdm/auto.py:22: TqdmWarning: IProgress not found. Please update jupyter and ipywidgets. See https://ipywidgets.readthedocs.io/en/stable/user_install.html\n",
      "  from .autonotebook import tqdm as notebook_tqdm\n"
     ]
    }
   ],
   "source": [
    "\"\"\"\n",
    "Approach: \n",
    "    1. Read in the data\n",
    "    2. Explore dataset (check for missing sentences, duplicates)\n",
    "    3. Generate Theme representation from documents/response texts using a pre-trained transformer model (BERTopic - a transformer based NLP model for extracting Topics from documents). \n",
    "    How?\n",
    "        a. convert documents/response texts to numerical format using sentence-level embeddings - SentenceTransformer.\n",
    "        b. reduce dimensionality of embeddings for optimization of the clustering process - UMAP.\n",
    "        c. cluster documents/response texts with similar themes together, and assign theme to individual clusters - HDBSCAN.\n",
    "        d. extract topic representations from clusters - a class-based variation of TF-IDF.\n",
    "\"\"\"\n",
    "\n",
    "# import packages\n",
    "import umap\n",
    "import hdbscan\n",
    "import pandas as pd\n",
    "import matplotlib.pyplot as plt\n",
    "from sentence_transformers import SentenceTransformer"
   ]
  },
  {
   "cell_type": "code",
   "execution_count": 2,
   "metadata": {},
   "outputs": [
    {
     "data": {
      "text/html": [
       "<div>\n",
       "<style scoped>\n",
       "    .dataframe tbody tr th:only-of-type {\n",
       "        vertical-align: middle;\n",
       "    }\n",
       "\n",
       "    .dataframe tbody tr th {\n",
       "        vertical-align: top;\n",
       "    }\n",
       "\n",
       "    .dataframe thead th {\n",
       "        text-align: right;\n",
       "    }\n",
       "</style>\n",
       "<table border=\"1\" class=\"dataframe\">\n",
       "  <thead>\n",
       "    <tr style=\"text-align: right;\">\n",
       "      <th></th>\n",
       "      <th>question</th>\n",
       "      <th>respondent_id</th>\n",
       "      <th>response</th>\n",
       "      <th>theme</th>\n",
       "    </tr>\n",
       "  </thead>\n",
       "  <tbody>\n",
       "    <tr>\n",
       "      <th>0</th>\n",
       "      <td>Why are you cancelling?</td>\n",
       "      <td>1779533</td>\n",
       "      <td>seen what I like already</td>\n",
       "      <td>NaN</td>\n",
       "    </tr>\n",
       "    <tr>\n",
       "      <th>1</th>\n",
       "      <td>Why are you cancelling?</td>\n",
       "      <td>1779397</td>\n",
       "      <td>You keep canceling really good, popular series!</td>\n",
       "      <td>NaN</td>\n",
       "    </tr>\n",
       "    <tr>\n",
       "      <th>2</th>\n",
       "      <td>Why are you cancelling?</td>\n",
       "      <td>1779811</td>\n",
       "      <td>Getting through cell provider</td>\n",
       "      <td>NaN</td>\n",
       "    </tr>\n",
       "    <tr>\n",
       "      <th>3</th>\n",
       "      <td>Why are you cancelling?</td>\n",
       "      <td>1779968</td>\n",
       "      <td>Budget cuts</td>\n",
       "      <td>Reducing expenses / financial constraints</td>\n",
       "    </tr>\n",
       "    <tr>\n",
       "      <th>4</th>\n",
       "      <td>Why are you cancelling?</td>\n",
       "      <td>1779967</td>\n",
       "      <td>Cannot have multiple users</td>\n",
       "      <td>Object to sharing restrictions</td>\n",
       "    </tr>\n",
       "  </tbody>\n",
       "</table>\n",
       "</div>"
      ],
      "text/plain": [
       "                  question  respondent_id  \\\n",
       "0  Why are you cancelling?        1779533   \n",
       "1  Why are you cancelling?        1779397   \n",
       "2  Why are you cancelling?        1779811   \n",
       "3  Why are you cancelling?        1779968   \n",
       "4  Why are you cancelling?        1779967   \n",
       "\n",
       "                                          response  \\\n",
       "0                         seen what I like already   \n",
       "1  You keep canceling really good, popular series!   \n",
       "2                    Getting through cell provider   \n",
       "3                                      Budget cuts   \n",
       "4                       Cannot have multiple users   \n",
       "\n",
       "                                       theme  \n",
       "0                                        NaN  \n",
       "1                                        NaN  \n",
       "2                                        NaN  \n",
       "3  Reducing expenses / financial constraints  \n",
       "4             Object to sharing restrictions  "
      ]
     },
     "execution_count": 2,
     "metadata": {},
     "output_type": "execute_result"
    }
   ],
   "source": [
    "# read in data into pandas\n",
    "data = pd.read_csv('coded_responses.csv')\n",
    "\n",
    "data.head()"
   ]
  },
  {
   "cell_type": "code",
   "execution_count": 3,
   "metadata": {},
   "outputs": [
    {
     "name": "stdout",
     "output_type": "stream",
     "text": [
      "Duplicate Rows : Empty DataFrame\n",
      "Columns: [question, respondent_id, response, theme]\n",
      "Index: []\n"
     ]
    }
   ],
   "source": [
    "# check the distribution of the respondent id to reponses\n",
    "duplicate = data[data.duplicated()] \n",
    "\n",
    "print (\"Duplicate Rows :\", duplicate)\n",
    "# Print the resultant Dataframe\n"
   ]
  },
  {
   "cell_type": "code",
   "execution_count": 4,
   "metadata": {},
   "outputs": [
    {
     "name": "stderr",
     "output_type": "stream",
     "text": [
      "Batches: 100%|██████████| 21/21 [00:02<00:00,  9.13it/s]\n"
     ]
    }
   ],
   "source": [
    "# in here, we use distilbert pre-trained model available on HuggingFace - it gives a great balance between speed and effective performance\n",
    "# since we are mainly interested in the response texts, we filter it out to use in our embedding\n",
    "\"\"\" \n",
    "    convert documents/response texts to numerical format using sentence-level embeddings - SentenceTransformer.\n",
    "\"\"\"\n",
    "model = SentenceTransformer('distilbert-base-nli-mean-tokens')\n",
    "embeddings = model.encode(data['response'], show_progress_bar=True)"
   ]
  },
  {
   "cell_type": "code",
   "execution_count": 5,
   "metadata": {},
   "outputs": [],
   "source": [
    "\"\"\" \n",
    "    reduce dimensionality of embeddings for optimization of the clustering process - UMAP.\n",
    "\"\"\"\n",
    "umap_embeddings = umap.UMAP(n_neighbors=15, \n",
    "                            n_components=5, \n",
    "                            metric='cosine').fit_transform(embeddings)"
   ]
  },
  {
   "cell_type": "code",
   "execution_count": 6,
   "metadata": {},
   "outputs": [],
   "source": [
    "\"\"\" \n",
    "    cluster documents/response texts with similar themes together, and assign theme to individual clusters - HDBSCAN.\n",
    "\"\"\"\n",
    "cluster = hdbscan.HDBSCAN(min_cluster_size=15,\n",
    "                          metric='euclidean',                      \n",
    "                          cluster_selection_method='eom').fit(umap_embeddings)"
   ]
  },
  {
   "cell_type": "code",
   "execution_count": 19,
   "metadata": {},
   "outputs": [
    {
     "data": {
      "text/plain": [
       "<matplotlib.colorbar.Colorbar at 0x2afd25490>"
      ]
     },
     "execution_count": 19,
     "metadata": {},
     "output_type": "execute_result"
    },
    {
     "data": {
      "image/png": "[encoded data removed]",
      "text/plain": [
       "<Figure size 2000x1000 with 2 Axes>"
      ]
     },
     "metadata": {},
     "output_type": "display_data"
    }
   ],
   "source": [
    "\n",
    "# Prepare data\n",
    "umap_data = umap.UMAP(n_neighbors=15, n_components=2, min_dist=0.0, metric='cosine').fit_transform(embeddings)\n",
    "result = pd.DataFrame(umap_data, columns=['x', 'y'])\n",
    "result['labels'] = cluster.labels_\n",
    "\n",
    "# Visualize clusters\n",
    "fig, ax = plt.subplots(figsize=(20, 10))\n",
    "outliers = result.loc[result.labels == -1, :]\n",
    "clustered = result.loc[result.labels != -1, :]\n",
    "plt.scatter(outliers.x, outliers.y, color='#BDBDBD', s=0.05)\n",
    "plt.scatter(clustered.x, clustered.y, c=clustered.labels, s=0.05, cmap='hsv_r')\n",
    "plt.colorbar()"
   ]
  },
  {
   "cell_type": "code",
   "execution_count": 20,
   "metadata": {},
   "outputs": [],
   "source": [
    "\"\"\"\n",
    "    extract topic representations from clusters - a class-based variation of TF-IDF.\n",
    "\"\"\"\n",
    "\n",
    "docs_df = pd.DataFrame(data, columns=[\"response\"])\n",
    "docs_df['Topic'] = cluster.labels_\n",
    "docs_df['Doc_ID'] = range(len(docs_df))\n",
    "docs_per_topic = docs_df.groupby(['Topic'], as_index = False).agg({'response': ' '.join})"
   ]
  },
  {
   "cell_type": "code",
   "execution_count": 21,
   "metadata": {},
   "outputs": [],
   "source": [
    "\n",
    "import numpy as np\n",
    "from sklearn.feature_extraction.text import CountVectorizer\n",
    "\n",
    "\"\"\" \n",
    "    create importance for each word in the cluster\n",
    "    we use a class-based approach because the responses are part of a larger cluster and as such we want to group them by joining all responses in a cluster together\n",
    "\"\"\"\n",
    "\n",
    "def c_tf_idf(documents, m, ngram_range=(1, 1)):\n",
    "    count = CountVectorizer(ngram_range=ngram_range, stop_words=\"english\").fit(documents)\n",
    "    t = count.transform(documents).toarray()\n",
    "    w = t.sum(axis=1)\n",
    "    tf = np.divide(t.T, w)\n",
    "    sum_t = t.sum(axis=0)\n",
    "    idf = np.log(np.divide(m, sum_t)).reshape(-1, 1)\n",
    "    tf_idf = np.multiply(tf, idf)\n",
    "\n",
    "    return tf_idf, count\n",
    "  \n",
    "tf_idf, count = c_tf_idf(docs_per_topic.response.values, m=len(data))"
   ]
  },
  {
   "cell_type": "code",
   "execution_count": 22,
   "metadata": {},
   "outputs": [
    {
     "data": {
      "text/html": [
       "<div>\n",
       "<style scoped>\n",
       "    .dataframe tbody tr th:only-of-type {\n",
       "        vertical-align: middle;\n",
       "    }\n",
       "\n",
       "    .dataframe tbody tr th {\n",
       "        vertical-align: top;\n",
       "    }\n",
       "\n",
       "    .dataframe thead th {\n",
       "        text-align: right;\n",
       "    }\n",
       "</style>\n",
       "<table border=\"1\" class=\"dataframe\">\n",
       "  <thead>\n",
       "    <tr style=\"text-align: right;\">\n",
       "      <th></th>\n",
       "      <th>Topic</th>\n",
       "      <th>Size</th>\n",
       "    </tr>\n",
       "  </thead>\n",
       "  <tbody>\n",
       "    <tr>\n",
       "      <th>2</th>\n",
       "      <td>1</td>\n",
       "      <td>602</td>\n",
       "    </tr>\n",
       "    <tr>\n",
       "      <th>0</th>\n",
       "      <td>-1</td>\n",
       "      <td>41</td>\n",
       "    </tr>\n",
       "    <tr>\n",
       "      <th>1</th>\n",
       "      <td>0</td>\n",
       "      <td>20</td>\n",
       "    </tr>\n",
       "  </tbody>\n",
       "</table>\n",
       "</div>"
      ],
      "text/plain": [
       "   Topic  Size\n",
       "2      1   602\n",
       "0     -1    41\n",
       "1      0    20"
      ]
     },
     "execution_count": 22,
     "metadata": {},
     "output_type": "execute_result"
    }
   ],
   "source": [
    "\"\"\"\n",
    "    Create function to extract the top 20 words for each topic - the value of n can be increased to get more words\n",
    "    Create function to get the frequency distribution for each topic \n",
    "\"\"\"\n",
    "def extract_top_n_words_per_topic(tf_idf, count, docs_per_topic, n=20):\n",
    "    words = count.get_feature_names()\n",
    "    labels = list(docs_per_topic.Topic)\n",
    "    tf_idf_transposed = tf_idf.T\n",
    "    indices = tf_idf_transposed.argsort()[:, -n:]\n",
    "    top_n_words = {label: [(words[j], tf_idf_transposed[i][j]) for j in indices[i]][::-1] for i, label in enumerate(labels)}\n",
    "    return top_n_words\n",
    "\n",
    "def extract_topic_sizes(df):\n",
    "    topic_sizes = (df.groupby(['Topic'])\n",
    "                     .response\n",
    "                     .count()\n",
    "                     .reset_index()\n",
    "                     .rename({\"Topic\": \"Topic\", \"response\": \"Size\"}, axis='columns')\n",
    "                     .sort_values(\"Size\", ascending=False))\n",
    "    return topic_sizes\n",
    "\n",
    "top_n_words = extract_top_n_words_per_topic(tf_idf, count, docs_per_topic, n=20)\n",
    "topic_sizes = extract_topic_sizes(docs_df); topic_sizes.head(10)"
   ]
  },
  {
   "cell_type": "code",
   "execution_count": 28,
   "metadata": {},
   "outputs": [
    {
     "data": {
      "text/plain": [
       "[('price', 0.09556218695100391),\n",
       " ('subscription', 0.06511608463552891),\n",
       " ('prices', 0.05205067460931001),\n",
       " ('increase', 0.04789881205305244),\n",
       " ('increases', 0.047839192613557485),\n",
       " ('need', 0.047381023146162334),\n",
       " ('money', 0.04615603781993019),\n",
       " ('don', 0.04384443838529867),\n",
       " ('subscriptions', 0.04002881947096716),\n",
       " ('expensive', 0.03912901475663285),\n",
       " ('sharing', 0.038233658215742164),\n",
       " ('raising', 0.035580713123846607),\n",
       " ('use', 0.0336883381048844),\n",
       " ('anymore', 0.03253757171590959),\n",
       " ('service', 0.03253757171590959),\n",
       " ('worth', 0.03253757171590959),\n",
       " ('new', 0.031363561435580396),\n",
       " ('just', 0.030881031635791745),\n",
       " ('going', 0.03047992495203827),\n",
       " ('time', 0.028062133916045617)]"
      ]
     },
     "execution_count": 28,
     "metadata": {},
     "output_type": "execute_result"
    }
   ],
   "source": [
    "top_n_words[1][:]"
   ]
  },
  {
   "cell_type": "code",
   "execution_count": 29,
   "metadata": {},
   "outputs": [
    {
     "data": {
      "text/plain": [
       "[('extra', 0.166560606111311),\n",
       " ('charging', 0.10467318988941847),\n",
       " ('share', 0.10467318988941847),\n",
       " ('subscription', 0.10444458196446577),\n",
       " ('charge', 0.09863578721321255),\n",
       " ('using', 0.09253367006183943),\n",
       " ('family', 0.08659942375048349),\n",
       " ('pay', 0.08643293419517262),\n",
       " ('greedy', 0.07492340949297513),\n",
       " ('people', 0.06740272513241702),\n",
       " ('hikes', 0.057312404862826606),\n",
       " ('months', 0.05616893761034751),\n",
       " ('inflation', 0.05377160595380352),\n",
       " ('like', 0.0532026609706583),\n",
       " ('raising', 0.052504933469155135),\n",
       " ('price', 0.050725548115575024),\n",
       " ('increase', 0.046501463250301744),\n",
       " ('reason', 0.04626996601300931),\n",
       " ('newest', 0.04626996601300931),\n",
       " ('checking', 0.04626996601300931)]"
      ]
     },
     "execution_count": 29,
     "metadata": {},
     "output_type": "execute_result"
    }
   ],
   "source": [
    "top_n_words[-1][:]"
   ]
  },
  {
   "cell_type": "code",
   "execution_count": 30,
   "metadata": {},
   "outputs": [
    {
     "data": {
      "text/plain": [
       "[('break', 0.9822619823550209),\n",
       " ('taking', 0.7590517995162022),\n",
       " ('summer', 0.4525312109029409),\n",
       " ('coming', 0.2149491781342932),\n",
       " ('laid', 0.1892770603357767),\n",
       " ('just', 0.17580947111170325),\n",
       " ('got', 0.15534036656265987),\n",
       " ('ll', 0.15181035990324043),\n",
       " ('time', 0.13156800040812672),\n",
       " ('play', 0.12031064796640485),\n",
       " ('monetary', 0.12031064796640485),\n",
       " ('layoff', 0.12031064796640485),\n",
       " ('bit', 0.12031064796640485),\n",
       " ('activities', 0.1074745890671466),\n",
       " ('health', 0.09996597595403245),\n",
       " ('broke', 0.09463853016788835),\n",
       " ('saving', 0.09050624218058818),\n",
       " ('come', 0.09050624218058818),\n",
       " ('outside', 0.09050624218058818),\n",
       " ('better', 0.0818024712686301)]"
      ]
     },
     "execution_count": 30,
     "metadata": {},
     "output_type": "execute_result"
    }
   ],
   "source": [
    "top_n_words[0][:]"
   ]
  },
  {
   "cell_type": "markdown",
   "metadata": {},
   "source": [
    "### *** Don't run the cell below, I discovered it only reduces the size of topic termms created. You only have 3 topic terms created check distributions above. Last cell squeezes it down to 1 considering data for training is very limited ***"
   ]
  },
  {
   "cell_type": "code",
   "execution_count": 31,
   "metadata": {},
   "outputs": [],
   "source": [
    "# from sklearn.metrics.pairwise import cosine_similarity\n",
    "# for i in range(20):\n",
    "#     # Calculate cosine similarity\n",
    "#     similarities = cosine_similarity(tf_idf.T)\n",
    "#     np.fill_diagonal(similarities, 0)\n",
    "\n",
    "#     # Extract label to merge into and from where\n",
    "#     topic_sizes = docs_df.groupby(['Topic']).count().sort_values(\"response\", ascending=False).reset_index()\n",
    "#     topic_to_merge = topic_sizes.iloc[-1].Topic\n",
    "#     topic_to_merge_into = np.argmax(similarities[topic_to_merge + 1]) - 1\n",
    "\n",
    "#     # Adjust topics\n",
    "#     docs_df.loc[docs_df.Topic == topic_to_merge, \"Topic\"] = topic_to_merge_into\n",
    "#     old_topics = docs_df.sort_values(\"Topic\").Topic.unique()\n",
    "#     map_topics = {old_topic: index - 1 for index, old_topic in enumerate(old_topics)}\n",
    "#     docs_df.Topic = docs_df.Topic.map(map_topics)\n",
    "#     docs_per_topic = docs_df.groupby(['Topic'], as_index = False).agg({'response': ' '.join})\n",
    "\n",
    "#     # Calculate new topic words\n",
    "#     m = len(data)\n",
    "#     tf_idf, count = c_tf_idf(docs_per_topic.response.values, m)\n",
    "#     top_n_words = extract_top_n_words_per_topic(tf_idf, count, docs_per_topic, n=20)\n",
    "\n",
    "# topic_sizes = extract_topic_sizes(docs_df); topic_sizes.head(10)"
   ]
  },
  {
   "cell_type": "code",
   "execution_count": null,
   "metadata": {},
   "outputs": [],
   "source": []
  }
 ],
 "metadata": {
  "kernelspec": {
   "display_name": "Python 3.10.5 64-bit",
   "language": "python",
   "name": "python3"
  },
  "language_info": {
   "codemirror_mode": {
    "name": "ipython",
    "version": 3
   },
   "file_extension": ".py",
   "mimetype": "text/x-python",
   "name": "python",
   "nbconvert_exporter": "python",
   "pygments_lexer": "ipython3",
   "version": "3.10.5"
  },
  "orig_nbformat": 4,
  "vscode": {
   "interpreter": {
    "hash": "aee8b7b246df8f9039afb4144a1f6fd8d2ca17a180786b69acc140d282b71a49"
   }
  }
 },
 "nbformat": 4,
 "nbformat_minor": 2
}
